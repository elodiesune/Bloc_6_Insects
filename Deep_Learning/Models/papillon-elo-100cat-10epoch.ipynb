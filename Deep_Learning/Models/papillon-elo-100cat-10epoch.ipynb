{
 "cells": [
  {
   "cell_type": "code",
   "execution_count": 1,
   "id": "ace75d79",
   "metadata": {
    "execution": {
     "iopub.execute_input": "2023-06-16T10:12:44.290353Z",
     "iopub.status.busy": "2023-06-16T10:12:44.289614Z",
     "iopub.status.idle": "2023-06-16T10:13:01.862932Z",
     "shell.execute_reply": "2023-06-16T10:13:01.861713Z"
    },
    "papermill": {
     "duration": 17.580857,
     "end_time": "2023-06-16T10:13:01.865370",
     "exception": false,
     "start_time": "2023-06-16T10:12:44.284513",
     "status": "completed"
    },
    "tags": []
   },
   "outputs": [
    {
     "name": "stdout",
     "output_type": "stream",
     "text": [
      "Collecting mlflow\r\n",
      "  Downloading mlflow-2.4.1-py3-none-any.whl (18.1 MB)\r\n",
      "\u001b[2K     \u001b[90m━━━━━━━━━━━━━━━━━━━━━━━━━━━━━━━━━━━━━━━━\u001b[0m \u001b[32m18.1/18.1 MB\u001b[0m \u001b[31m58.2 MB/s\u001b[0m eta \u001b[36m0:00:00\u001b[0m\r\n",
      "\u001b[?25hRequirement already satisfied: click<9,>=7.0 in /opt/conda/lib/python3.10/site-packages (from mlflow) (8.1.3)\r\n",
      "Requirement already satisfied: cloudpickle<3 in /opt/conda/lib/python3.10/site-packages (from mlflow) (2.2.1)\r\n",
      "Collecting databricks-cli<1,>=0.8.7 (from mlflow)\r\n",
      "  Downloading databricks-cli-0.17.7.tar.gz (83 kB)\r\n",
      "\u001b[2K     \u001b[90m━━━━━━━━━━━━━━━━━━━━━━━━━━━━━━━━━━━━━━━━\u001b[0m \u001b[32m83.5/83.5 kB\u001b[0m \u001b[31m8.4 MB/s\u001b[0m eta \u001b[36m0:00:00\u001b[0m\r\n",
      "\u001b[?25h  Preparing metadata (setup.py) ... \u001b[?25l-\b \b\\\b \b|\b \bdone\r\n",
      "\u001b[?25hRequirement already satisfied: entrypoints<1 in /opt/conda/lib/python3.10/site-packages (from mlflow) (0.4)\r\n",
      "Requirement already satisfied: gitpython<4,>=2.1.0 in /opt/conda/lib/python3.10/site-packages (from mlflow) (3.1.31)\r\n",
      "Requirement already satisfied: pyyaml<7,>=5.1 in /opt/conda/lib/python3.10/site-packages (from mlflow) (5.4.1)\r\n",
      "Requirement already satisfied: protobuf<5,>=3.12.0 in /opt/conda/lib/python3.10/site-packages (from mlflow) (3.20.3)\r\n",
      "Requirement already satisfied: pytz<2024 in /opt/conda/lib/python3.10/site-packages (from mlflow) (2023.3)\r\n",
      "Requirement already satisfied: requests<3,>=2.17.3 in /opt/conda/lib/python3.10/site-packages (from mlflow) (2.28.2)\r\n",
      "Requirement already satisfied: packaging<24 in /opt/conda/lib/python3.10/site-packages (from mlflow) (21.3)\r\n",
      "Requirement already satisfied: importlib-metadata!=4.7.0,<7,>=3.7.0 in /opt/conda/lib/python3.10/site-packages (from mlflow) (5.2.0)\r\n",
      "Requirement already satisfied: sqlparse<1,>=0.4.0 in /opt/conda/lib/python3.10/site-packages (from mlflow) (0.4.4)\r\n",
      "Requirement already satisfied: alembic!=1.10.0,<2 in /opt/conda/lib/python3.10/site-packages (from mlflow) (1.11.1)\r\n",
      "Requirement already satisfied: docker<7,>=4.0.0 in /opt/conda/lib/python3.10/site-packages (from mlflow) (6.1.1)\r\n",
      "Requirement already satisfied: Flask<3 in /opt/conda/lib/python3.10/site-packages (from mlflow) (2.3.2)\r\n",
      "Requirement already satisfied: numpy<2 in /opt/conda/lib/python3.10/site-packages (from mlflow) (1.23.5)\r\n",
      "Requirement already satisfied: scipy<2 in /opt/conda/lib/python3.10/site-packages (from mlflow) (1.10.1)\r\n",
      "Requirement already satisfied: pandas<3 in /opt/conda/lib/python3.10/site-packages (from mlflow) (1.5.3)\r\n",
      "Collecting querystring-parser<2 (from mlflow)\r\n",
      "  Downloading querystring_parser-1.2.4-py2.py3-none-any.whl (7.9 kB)\r\n",
      "Requirement already satisfied: sqlalchemy<3,>=1.4.0 in /opt/conda/lib/python3.10/site-packages (from mlflow) (2.0.12)\r\n",
      "Requirement already satisfied: scikit-learn<2 in /opt/conda/lib/python3.10/site-packages (from mlflow) (1.2.2)\r\n",
      "Requirement already satisfied: pyarrow<13,>=4.0.0 in /opt/conda/lib/python3.10/site-packages (from mlflow) (11.0.0)\r\n",
      "Requirement already satisfied: markdown<4,>=3.3 in /opt/conda/lib/python3.10/site-packages (from mlflow) (3.4.3)\r\n",
      "Requirement already satisfied: matplotlib<4 in /opt/conda/lib/python3.10/site-packages (from mlflow) (3.6.3)\r\n",
      "Collecting gunicorn<21 (from mlflow)\r\n",
      "  Downloading gunicorn-20.1.0-py3-none-any.whl (79 kB)\r\n",
      "\u001b[2K     \u001b[90m━━━━━━━━━━━━━━━━━━━━━━━━━━━━━━━━━━━━━━━━\u001b[0m \u001b[32m79.5/79.5 kB\u001b[0m \u001b[31m7.9 MB/s\u001b[0m eta \u001b[36m0:00:00\u001b[0m\r\n",
      "\u001b[?25hRequirement already satisfied: Jinja2<4,>=2.11 in /opt/conda/lib/python3.10/site-packages (from mlflow) (3.1.2)\r\n",
      "Requirement already satisfied: Mako in /opt/conda/lib/python3.10/site-packages (from alembic!=1.10.0,<2->mlflow) (1.2.4)\r\n",
      "Requirement already satisfied: typing-extensions>=4 in /opt/conda/lib/python3.10/site-packages (from alembic!=1.10.0,<2->mlflow) (4.5.0)\r\n",
      "Requirement already satisfied: pyjwt>=1.7.0 in /opt/conda/lib/python3.10/site-packages (from databricks-cli<1,>=0.8.7->mlflow) (2.6.0)\r\n",
      "Requirement already satisfied: oauthlib>=3.1.0 in /opt/conda/lib/python3.10/site-packages (from databricks-cli<1,>=0.8.7->mlflow) (3.2.2)\r\n",
      "Requirement already satisfied: tabulate>=0.7.7 in /opt/conda/lib/python3.10/site-packages (from databricks-cli<1,>=0.8.7->mlflow) (0.9.0)\r\n",
      "Requirement already satisfied: six>=1.10.0 in /opt/conda/lib/python3.10/site-packages (from databricks-cli<1,>=0.8.7->mlflow) (1.16.0)\r\n",
      "Requirement already satisfied: urllib3<2.0.0,>=1.26.7 in /opt/conda/lib/python3.10/site-packages (from databricks-cli<1,>=0.8.7->mlflow) (1.26.15)\r\n",
      "Requirement already satisfied: websocket-client>=0.32.0 in /opt/conda/lib/python3.10/site-packages (from docker<7,>=4.0.0->mlflow) (1.5.1)\r\n",
      "Requirement already satisfied: Werkzeug>=2.3.3 in /opt/conda/lib/python3.10/site-packages (from Flask<3->mlflow) (2.3.6)\r\n",
      "Requirement already satisfied: itsdangerous>=2.1.2 in /opt/conda/lib/python3.10/site-packages (from Flask<3->mlflow) (2.1.2)\r\n",
      "Requirement already satisfied: blinker>=1.6.2 in /opt/conda/lib/python3.10/site-packages (from Flask<3->mlflow) (1.6.2)\r\n",
      "Requirement already satisfied: gitdb<5,>=4.0.1 in /opt/conda/lib/python3.10/site-packages (from gitpython<4,>=2.1.0->mlflow) (4.0.10)\r\n",
      "Requirement already satisfied: setuptools>=3.0 in /opt/conda/lib/python3.10/site-packages (from gunicorn<21->mlflow) (59.8.0)\r\n",
      "Requirement already satisfied: zipp>=0.5 in /opt/conda/lib/python3.10/site-packages (from importlib-metadata!=4.7.0,<7,>=3.7.0->mlflow) (3.15.0)\r\n",
      "Requirement already satisfied: MarkupSafe>=2.0 in /opt/conda/lib/python3.10/site-packages (from Jinja2<4,>=2.11->mlflow) (2.1.2)\r\n",
      "Requirement already satisfied: contourpy>=1.0.1 in /opt/conda/lib/python3.10/site-packages (from matplotlib<4->mlflow) (1.0.7)\r\n",
      "Requirement already satisfied: cycler>=0.10 in /opt/conda/lib/python3.10/site-packages (from matplotlib<4->mlflow) (0.11.0)\r\n",
      "Requirement already satisfied: fonttools>=4.22.0 in /opt/conda/lib/python3.10/site-packages (from matplotlib<4->mlflow) (4.39.3)\r\n",
      "Requirement already satisfied: kiwisolver>=1.0.1 in /opt/conda/lib/python3.10/site-packages (from matplotlib<4->mlflow) (1.4.4)\r\n",
      "Requirement already satisfied: pillow>=6.2.0 in /opt/conda/lib/python3.10/site-packages (from matplotlib<4->mlflow) (9.5.0)\r\n",
      "Requirement already satisfied: pyparsing>=2.2.1 in /opt/conda/lib/python3.10/site-packages (from matplotlib<4->mlflow) (3.0.9)\r\n",
      "Requirement already satisfied: python-dateutil>=2.7 in /opt/conda/lib/python3.10/site-packages (from matplotlib<4->mlflow) (2.8.2)\r\n",
      "Requirement already satisfied: charset-normalizer<4,>=2 in /opt/conda/lib/python3.10/site-packages (from requests<3,>=2.17.3->mlflow) (2.1.1)\r\n",
      "Requirement already satisfied: idna<4,>=2.5 in /opt/conda/lib/python3.10/site-packages (from requests<3,>=2.17.3->mlflow) (3.4)\r\n",
      "Requirement already satisfied: certifi>=2017.4.17 in /opt/conda/lib/python3.10/site-packages (from requests<3,>=2.17.3->mlflow) (2023.5.7)\r\n",
      "Requirement already satisfied: joblib>=1.1.1 in /opt/conda/lib/python3.10/site-packages (from scikit-learn<2->mlflow) (1.2.0)\r\n",
      "Requirement already satisfied: threadpoolctl>=2.0.0 in /opt/conda/lib/python3.10/site-packages (from scikit-learn<2->mlflow) (3.1.0)\r\n",
      "Requirement already satisfied: greenlet!=0.4.17 in /opt/conda/lib/python3.10/site-packages (from sqlalchemy<3,>=1.4.0->mlflow) (2.0.2)\r\n",
      "Requirement already satisfied: smmap<6,>=3.0.1 in /opt/conda/lib/python3.10/site-packages (from gitdb<5,>=4.0.1->gitpython<4,>=2.1.0->mlflow) (5.0.0)\r\n",
      "Building wheels for collected packages: databricks-cli\r\n",
      "  Building wheel for databricks-cli (setup.py) ... \u001b[?25l-\b \b\\\b \b|\b \b/\b \bdone\r\n",
      "\u001b[?25h  Created wheel for databricks-cli: filename=databricks_cli-0.17.7-py3-none-any.whl size=143882 sha256=cc7491513e6b57942e0fccadaa92afd67d9eb180f2af4422c0d26ecddc4c8fd9\r\n",
      "  Stored in directory: /root/.cache/pip/wheels/ae/63/93/5402c1a09c1868a59d0b05013484e07af97a9d7b3dbd5bd39a\r\n",
      "Successfully built databricks-cli\r\n",
      "Installing collected packages: querystring-parser, gunicorn, databricks-cli, mlflow\r\n",
      "Successfully installed databricks-cli-0.17.7 gunicorn-20.1.0 mlflow-2.4.1 querystring-parser-1.2.4\r\n",
      "\u001b[33mWARNING: Running pip as the 'root' user can result in broken permissions and conflicting behaviour with the system package manager. It is recommended to use a virtual environment instead: https://pip.pypa.io/warnings/venv\u001b[0m\u001b[33m\r\n",
      "\u001b[0m"
     ]
    }
   ],
   "source": [
    "!pip install mlflow"
   ]
  },
  {
   "cell_type": "code",
   "execution_count": 2,
   "id": "06427629",
   "metadata": {
    "execution": {
     "iopub.execute_input": "2023-06-16T10:13:01.879401Z",
     "iopub.status.busy": "2023-06-16T10:13:01.879085Z",
     "iopub.status.idle": "2023-06-16T10:13:12.309779Z",
     "shell.execute_reply": "2023-06-16T10:13:12.308746Z"
    },
    "papermill": {
     "duration": 10.440104,
     "end_time": "2023-06-16T10:13:12.312048",
     "exception": false,
     "start_time": "2023-06-16T10:13:01.871944",
     "status": "completed"
    },
    "tags": []
   },
   "outputs": [
    {
     "name": "stderr",
     "output_type": "stream",
     "text": [
      "/opt/conda/lib/python3.10/site-packages/tensorflow_io/python/ops/__init__.py:98: UserWarning: unable to load libtensorflow_io_plugins.so: unable to open file: libtensorflow_io_plugins.so, from paths: ['/opt/conda/lib/python3.10/site-packages/tensorflow_io/python/ops/libtensorflow_io_plugins.so']\n",
      "caused by: ['/opt/conda/lib/python3.10/site-packages/tensorflow_io/python/ops/libtensorflow_io_plugins.so: undefined symbol: _ZN3tsl6StatusC1EN10tensorflow5error4CodeESt17basic_string_viewIcSt11char_traitsIcEENS_14SourceLocationE']\n",
      "  warnings.warn(f\"unable to load libtensorflow_io_plugins.so: {e}\")\n",
      "/opt/conda/lib/python3.10/site-packages/tensorflow_io/python/ops/__init__.py:104: UserWarning: file system plugins are not loaded: unable to open file: libtensorflow_io.so, from paths: ['/opt/conda/lib/python3.10/site-packages/tensorflow_io/python/ops/libtensorflow_io.so']\n",
      "caused by: ['/opt/conda/lib/python3.10/site-packages/tensorflow_io/python/ops/libtensorflow_io.so: undefined symbol: _ZTVN10tensorflow13GcsFileSystemE']\n",
      "  warnings.warn(f\"file system plugins are not loaded: {e}\")\n"
     ]
    },
    {
     "data": {
      "text/plain": [
       "'2.12.0'"
      ]
     },
     "execution_count": 2,
     "metadata": {},
     "output_type": "execute_result"
    }
   ],
   "source": [
    "import tensorflow as tf\n",
    "import numpy as np\n",
    "import matplotlib.pyplot as plt\n",
    "from pathlib import Path\n",
    "from tensorflow import keras\n",
    "import mlflow\n",
    "\n",
    "import pandas as pd\n",
    "from plotly import express as px\n",
    "from plotly import graph_objects as go\n",
    "\n",
    "# Display\n",
    "from IPython.display import Image\n",
    "import matplotlib.pyplot as plt\n",
    "import matplotlib.cm as cm\n",
    "\n",
    "from tensorflow.keras.preprocessing.image import ImageDataGenerator\n",
    "from tensorflow.keras.layers import Conv1D, Conv2D, Conv3D, MaxPool2D, AveragePooling2D, Flatten, Dense\n",
    "from tensorflow.keras.models import Sequential\n",
    "\n",
    "from tensorflow.keras.losses import BinaryCrossentropy, SparseCategoricalCrossentropy\n",
    "from tensorflow.keras.metrics import BinaryAccuracy, SparseCategoricalAccuracy\n",
    "from tensorflow.keras.optimizers import Adam\n",
    "tf.__version__# Set your variables for your environment\n"
   ]
  },
  {
   "cell_type": "code",
   "execution_count": 3,
   "id": "120724c3",
   "metadata": {
    "execution": {
     "iopub.execute_input": "2023-06-16T10:13:12.325841Z",
     "iopub.status.busy": "2023-06-16T10:13:12.325516Z",
     "iopub.status.idle": "2023-06-16T10:13:12.330248Z",
     "shell.execute_reply": "2023-06-16T10:13:12.329139Z"
    },
    "papermill": {
     "duration": 0.014432,
     "end_time": "2023-06-16T10:13:12.332729",
     "exception": false,
     "start_time": "2023-06-16T10:13:12.318297",
     "status": "completed"
    },
    "tags": []
   },
   "outputs": [],
   "source": [
    "import os\n",
    "import glob\n",
    "import pandas as pd"
   ]
  },
  {
   "cell_type": "code",
   "execution_count": 4,
   "id": "e280b3b5",
   "metadata": {
    "execution": {
     "iopub.execute_input": "2023-06-16T10:13:12.346435Z",
     "iopub.status.busy": "2023-06-16T10:13:12.346162Z",
     "iopub.status.idle": "2023-06-16T10:13:12.396697Z",
     "shell.execute_reply": "2023-06-16T10:13:12.395710Z"
    },
    "papermill": {
     "duration": 0.060096,
     "end_time": "2023-06-16T10:13:12.399122",
     "exception": false,
     "start_time": "2023-06-16T10:13:12.339026",
     "status": "completed"
    },
    "tags": []
   },
   "outputs": [
    {
     "data": {
      "text/html": [
       "<div>\n",
       "<style scoped>\n",
       "    .dataframe tbody tr th:only-of-type {\n",
       "        vertical-align: middle;\n",
       "    }\n",
       "\n",
       "    .dataframe tbody tr th {\n",
       "        vertical-align: top;\n",
       "    }\n",
       "\n",
       "    .dataframe thead th {\n",
       "        text-align: right;\n",
       "    }\n",
       "</style>\n",
       "<table border=\"1\" class=\"dataframe\">\n",
       "  <thead>\n",
       "    <tr style=\"text-align: right;\">\n",
       "      <th></th>\n",
       "      <th>class id</th>\n",
       "      <th>filepaths</th>\n",
       "      <th>labels</th>\n",
       "      <th>data set</th>\n",
       "    </tr>\n",
       "  </thead>\n",
       "  <tbody>\n",
       "    <tr>\n",
       "      <th>0</th>\n",
       "      <td>0</td>\n",
       "      <td>train/ADONIS/001.jpg</td>\n",
       "      <td>ADONIS</td>\n",
       "      <td>train</td>\n",
       "    </tr>\n",
       "    <tr>\n",
       "      <th>1</th>\n",
       "      <td>0</td>\n",
       "      <td>train/ADONIS/002.jpg</td>\n",
       "      <td>ADONIS</td>\n",
       "      <td>train</td>\n",
       "    </tr>\n",
       "    <tr>\n",
       "      <th>2</th>\n",
       "      <td>0</td>\n",
       "      <td>train/ADONIS/003.jpg</td>\n",
       "      <td>ADONIS</td>\n",
       "      <td>train</td>\n",
       "    </tr>\n",
       "    <tr>\n",
       "      <th>3</th>\n",
       "      <td>0</td>\n",
       "      <td>train/ADONIS/004.jpg</td>\n",
       "      <td>ADONIS</td>\n",
       "      <td>train</td>\n",
       "    </tr>\n",
       "    <tr>\n",
       "      <th>4</th>\n",
       "      <td>0</td>\n",
       "      <td>train/ADONIS/005.jpg</td>\n",
       "      <td>ADONIS</td>\n",
       "      <td>train</td>\n",
       "    </tr>\n",
       "  </tbody>\n",
       "</table>\n",
       "</div>"
      ],
      "text/plain": [
       "   class id             filepaths  labels data set\n",
       "0         0  train/ADONIS/001.jpg  ADONIS    train\n",
       "1         0  train/ADONIS/002.jpg  ADONIS    train\n",
       "2         0  train/ADONIS/003.jpg  ADONIS    train\n",
       "3         0  train/ADONIS/004.jpg  ADONIS    train\n",
       "4         0  train/ADONIS/005.jpg  ADONIS    train"
      ]
     },
     "execution_count": 4,
     "metadata": {},
     "output_type": "execute_result"
    }
   ],
   "source": [
    "df = pd.read_csv(\"/kaggle/input/butterfly-images40-species/butterflies and moths.csv\")\n",
    "df.head()"
   ]
  },
  {
   "cell_type": "code",
   "execution_count": 5,
   "id": "1452c03b",
   "metadata": {
    "execution": {
     "iopub.execute_input": "2023-06-16T10:13:12.414466Z",
     "iopub.status.busy": "2023-06-16T10:13:12.413775Z",
     "iopub.status.idle": "2023-06-16T10:13:12.418947Z",
     "shell.execute_reply": "2023-06-16T10:13:12.418138Z"
    },
    "papermill": {
     "duration": 0.014581,
     "end_time": "2023-06-16T10:13:12.420963",
     "exception": false,
     "start_time": "2023-06-16T10:13:12.406382",
     "status": "completed"
    },
    "tags": []
   },
   "outputs": [],
   "source": [
    "# df = df.iloc[:3000,:]"
   ]
  },
  {
   "cell_type": "code",
   "execution_count": 6,
   "id": "8ee67d33",
   "metadata": {
    "execution": {
     "iopub.execute_input": "2023-06-16T10:13:12.436616Z",
     "iopub.status.busy": "2023-06-16T10:13:12.435209Z",
     "iopub.status.idle": "2023-06-16T10:13:12.448014Z",
     "shell.execute_reply": "2023-06-16T10:13:12.447065Z"
    },
    "papermill": {
     "duration": 0.022822,
     "end_time": "2023-06-16T10:13:12.450461",
     "exception": false,
     "start_time": "2023-06-16T10:13:12.427639",
     "status": "completed"
    },
    "tags": []
   },
   "outputs": [
    {
     "name": "stdout",
     "output_type": "stream",
     "text": [
      "100\n"
     ]
    },
    {
     "data": {
      "text/plain": [
       "Index(['class id', 'filepaths', 'labels', 'data set'], dtype='object')"
      ]
     },
     "execution_count": 6,
     "metadata": {},
     "output_type": "execute_result"
    }
   ],
   "source": [
    "width , height = (299, 299)\n",
    "n_classes = df['labels'].nunique()\n",
    "print(n_classes)\n",
    "df.columns"
   ]
  },
  {
   "cell_type": "code",
   "execution_count": 7,
   "id": "b2dfc5ce",
   "metadata": {
    "execution": {
     "iopub.execute_input": "2023-06-16T10:13:12.465648Z",
     "iopub.status.busy": "2023-06-16T10:13:12.465391Z",
     "iopub.status.idle": "2023-06-16T10:13:43.552518Z",
     "shell.execute_reply": "2023-06-16T10:13:43.551472Z"
    },
    "papermill": {
     "duration": 31.097612,
     "end_time": "2023-06-16T10:13:43.554944",
     "exception": false,
     "start_time": "2023-06-16T10:13:12.457332",
     "status": "completed"
    },
    "tags": []
   },
   "outputs": [
    {
     "name": "stdout",
     "output_type": "stream",
     "text": [
      "Found 9516 validated image filenames belonging to 100 classes.\n",
      "Found 4078 validated image filenames belonging to 100 classes.\n"
     ]
    }
   ],
   "source": [
    "#preprocessing data :\n",
    "img_generator = tf.keras.preprocessing.image.ImageDataGenerator(#rotation_range=90,\n",
    "                                                                brightness_range=(0.5,1),\n",
    "                                                                #shear_range=0.2,\n",
    "                                                                #zoom_range=0.2,\n",
    "                                                                channel_shift_range=0.2,\n",
    "                                                                horizontal_flip=True,\n",
    "                                                                vertical_flip=True,\n",
    "                                                                rescale=1./255,\n",
    "                                                                validation_split=0.3)\n",
    "\n",
    "\n",
    "img_generator_flow_train = img_generator.flow_from_dataframe(\n",
    "    dataframe=df, # the dataframe containing the filename and label column\n",
    "    directory=\"/kaggle/input/butterfly-images40-species\", # the directory containing the image files\n",
    "    x_col=\"filepaths\", # the name of the column with the filenames\n",
    "    y_col=\"labels\", # the name of the column with the labels\n",
    "    target_size=(width, height),\n",
    "    class_mode = \"categorical\", \n",
    "    batch_size=32, \n",
    "    subset=\"training\")\n",
    "\n",
    "img_generator_flow_valid = img_generator.flow_from_dataframe(\n",
    "    dataframe=df, # the dataframe containing the filename and label column\n",
    "    directory=\"/kaggle/input/butterfly-images40-species\", # the directory containing the image files\n",
    "    x_col=\"filepaths\", # the name of the column with the filenames\n",
    "    y_col=\"labels\", # the name of the column with the labels\n",
    "    target_size=(width, height),\n",
    "    class_mode = \"categorical\", \n",
    "    batch_size=32, \n",
    "    subset=\"validation\")"
   ]
  },
  {
   "cell_type": "code",
   "execution_count": 8,
   "id": "b8b8b710",
   "metadata": {
    "execution": {
     "iopub.execute_input": "2023-06-16T10:13:43.570562Z",
     "iopub.status.busy": "2023-06-16T10:13:43.570280Z",
     "iopub.status.idle": "2023-06-16T10:13:44.251625Z",
     "shell.execute_reply": "2023-06-16T10:13:44.250723Z"
    },
    "papermill": {
     "duration": 0.692029,
     "end_time": "2023-06-16T10:13:44.254171",
     "exception": false,
     "start_time": "2023-06-16T10:13:43.562142",
     "status": "completed"
    },
    "tags": []
   },
   "outputs": [
    {
     "name": "stderr",
     "output_type": "stream",
     "text": [
      "2023/06/16 10:13:43 INFO mlflow.tracking.fluent: Experiment with name 'papillons-elo' does not exist. Creating a new experiment.\n"
     ]
    }
   ],
   "source": [
    "# Set your variables for your environment\n",
    "EXPERIMENT_NAME=\"papillons-elo\"\n",
    "\n",
    "# Set tracking URI to your Heroku application\n",
    "# mlflow.set_tracking_uri(os.environ[\"APP_URI\"])\n",
    "mlflow.set_tracking_uri(\"https://insects-mlflow.herokuapp.com/\")\n",
    "\n",
    "\n",
    "# Set experiment's info \n",
    "mlflow.set_experiment(EXPERIMENT_NAME)\n",
    "\n",
    "\n",
    "\n",
    "# Get our experiment info\n",
    "experiment = mlflow.get_experiment_by_name(EXPERIMENT_NAME)"
   ]
  },
  {
   "cell_type": "code",
   "execution_count": 9,
   "id": "5c06bc3d",
   "metadata": {
    "execution": {
     "iopub.execute_input": "2023-06-16T10:13:44.272137Z",
     "iopub.status.busy": "2023-06-16T10:13:44.271795Z",
     "iopub.status.idle": "2023-06-16T10:39:12.743159Z",
     "shell.execute_reply": "2023-06-16T10:39:12.742183Z"
    },
    "papermill": {
     "duration": 1528.482622,
     "end_time": "2023-06-16T10:39:12.745575",
     "exception": false,
     "start_time": "2023-06-16T10:13:44.262953",
     "status": "completed"
    },
    "tags": []
   },
   "outputs": [
    {
     "name": "stdout",
     "output_type": "stream",
     "text": [
      "Downloading data from https://storage.googleapis.com/tensorflow/keras-applications/inception_v3/inception_v3_weights_tf_dim_ordering_tf_kernels_notop.h5\n",
      "87910968/87910968 [==============================] - 1s 0us/step\n",
      "Model: \"sequential\"\n",
      "_________________________________________________________________\n",
      " Layer (type)                Output Shape              Param #   \n",
      "=================================================================\n",
      " inception_v3 (Functional)   (None, 8, 8, 2048)        21802784  \n",
      "                                                                 \n",
      " global_max_pooling2d (Globa  (None, 2048)             0         \n",
      " lMaxPooling2D)                                                  \n",
      "                                                                 \n",
      " flatten (Flatten)           (None, 2048)              0         \n",
      "                                                                 \n",
      " dense (Dense)               (None, 100)               204900    \n",
      "                                                                 \n",
      "=================================================================\n",
      "Total params: 22,007,684\n",
      "Trainable params: 6,278,436\n",
      "Non-trainable params: 15,729,248\n",
      "_________________________________________________________________\n"
     ]
    },
    {
     "name": "stderr",
     "output_type": "stream",
     "text": [
      "2023/06/16 10:13:54 WARNING mlflow.tensorflow: Unrecognized dataset type <class 'keras.preprocessing.image.DataFrameIterator'>. Dataset logging skipped.\n",
      "2023/06/16 10:13:54 WARNING mlflow.tensorflow: Unrecognized dataset type <class 'keras.preprocessing.image.DataFrameIterator'>. Dataset logging skipped.\n"
     ]
    },
    {
     "name": "stdout",
     "output_type": "stream",
     "text": [
      "Epoch 1/10\n",
      "298/298 [==============================] - 202s 613ms/step - loss: 1.5723 - categorical_accuracy: 0.6954 - val_loss: 4.3125 - val_categorical_accuracy: 0.2759\n",
      "Epoch 2/10\n",
      "298/298 [==============================] - 135s 454ms/step - loss: 0.4329 - categorical_accuracy: 0.8905 - val_loss: 4.1261 - val_categorical_accuracy: 0.3195\n",
      "Epoch 3/10\n",
      "298/298 [==============================] - 130s 435ms/step - loss: 0.3084 - categorical_accuracy: 0.9164 - val_loss: 4.3493 - val_categorical_accuracy: 0.3460\n",
      "Epoch 4/10\n",
      "298/298 [==============================] - 128s 429ms/step - loss: 0.2291 - categorical_accuracy: 0.9387 - val_loss: 3.0560 - val_categorical_accuracy: 0.4850\n",
      "Epoch 5/10\n",
      "298/298 [==============================] - 132s 441ms/step - loss: 0.1845 - categorical_accuracy: 0.9485 - val_loss: 4.1674 - val_categorical_accuracy: 0.4012\n",
      "Epoch 6/10\n",
      "298/298 [==============================] - 130s 437ms/step - loss: 0.1642 - categorical_accuracy: 0.9537 - val_loss: 3.6847 - val_categorical_accuracy: 0.4475\n",
      "Epoch 7/10\n",
      "298/298 [==============================] - 129s 434ms/step - loss: 0.1412 - categorical_accuracy: 0.9623 - val_loss: 4.3585 - val_categorical_accuracy: 0.3747\n",
      "Epoch 8/10\n",
      "298/298 [==============================] - 129s 434ms/step - loss: 0.1151 - categorical_accuracy: 0.9666 - val_loss: 3.7034 - val_categorical_accuracy: 0.4385\n",
      "Epoch 9/10\n",
      "298/298 [==============================] - 129s 432ms/step - loss: 0.0880 - categorical_accuracy: 0.9732 - val_loss: 2.8874 - val_categorical_accuracy: 0.5314\n",
      "Epoch 10/10\n",
      "298/298 [==============================] - 143s 480ms/step - loss: 0.1057 - categorical_accuracy: 0.9725 - val_loss: 3.6727 - val_categorical_accuracy: 0.4784\n"
     ]
    },
    {
     "name": "stderr",
     "output_type": "stream",
     "text": [
      "2023/06/16 10:37:59 WARNING mlflow.tensorflow: Failed to infer model signature: could not sample data to infer model signature: '>=' not supported between instances of 'slice' and 'int'\n",
      "2023/06/16 10:37:59 WARNING mlflow.tensorflow: You are saving a TensorFlow Core model or Keras model without a signature. Inference with mlflow.pyfunc.spark_udf() will not work unless the model's pyfunc representation accepts pandas DataFrames as inference inputs.\n",
      "2023/06/16 10:39:12 WARNING mlflow.utils.environment: Encountered an unexpected error while inferring pip requirements (model URI: /tmp/tmpw4j7hjwv/model, flavor: tensorflow), fall back to return ['tensorflow==2.12.0']. Set logging level to DEBUG to see the full traceback.\n"
     ]
    }
   ],
   "source": [
    "# Call mlflow autolog\n",
    "mlflow.tensorflow.autolog()\n",
    "\n",
    "mlflow.end_run()\n",
    "\n",
    "with mlflow.start_run(experiment_id = experiment.experiment_id):\n",
    "   \n",
    "    mlflow.set_tag(\"user\", \"elo\")\n",
    "    mlflow.set_tag(\"model\", \"inceptionv3\")\n",
    "    mlflow.set_tag(\"description\", \"24cat\")\n",
    "    \n",
    "    base_model = tf.keras.applications.inception_v3.InceptionV3(input_shape=(width, height,3),\n",
    "                                               include_top=False,\n",
    "                                               weights = \"imagenet\"\n",
    "                                               )\n",
    "    base_model.trainable = True\n",
    "\n",
    "    fine_tune_at = len(base_model.layers) - 0.1*len(base_model.layers)\n",
    "\n",
    "    for layer in base_model.layers[:int(fine_tune_at)]:\n",
    "        layer.trainable = False\n",
    "    model = tf.keras.Sequential([\n",
    "        base_model,\n",
    "        tf.keras.layers.GlobalMaxPooling2D(),\n",
    "        tf.keras.layers.Flatten(),\n",
    "        tf.keras.layers.Dense(n_classes, activation=\"softmax\")\n",
    "    ])\n",
    "    model.summary()\n",
    "\n",
    "    model.compile(optimizer=tf.keras.optimizers.Adam(learning_rate = 0.001),\n",
    "                  loss = tf.keras.losses.CategoricalCrossentropy(),\n",
    "                  metrics = [tf.keras.metrics.CategoricalAccuracy()])\n",
    "    model.fit(img_generator_flow_train, validation_data=img_generator_flow_valid, epochs=10)"
   ]
  },
  {
   "cell_type": "code",
   "execution_count": 10,
   "id": "beea48b1",
   "metadata": {
    "execution": {
     "iopub.execute_input": "2023-06-16T10:39:13.224939Z",
     "iopub.status.busy": "2023-06-16T10:39:13.223015Z",
     "iopub.status.idle": "2023-06-16T10:39:13.529624Z",
     "shell.execute_reply": "2023-06-16T10:39:13.528575Z"
    },
    "papermill": {
     "duration": 0.54884,
     "end_time": "2023-06-16T10:39:13.531761",
     "exception": false,
     "start_time": "2023-06-16T10:39:12.982921",
     "status": "completed"
    },
    "tags": []
   },
   "outputs": [
    {
     "data": {
      "image/png": "[encoded data removed]",
      "text/plain": [
       "<Figure size 640x480 with 1 Axes>"
      ]
     },
     "metadata": {},
     "output_type": "display_data"
    }
   ],
   "source": [
    "# Visualise train / Valid Accuracy\n",
    "plt.plot(model.history.history[\"categorical_accuracy\"], c=\"r\", label=\"train_accuracy\")\n",
    "plt.plot(model.history.history[\"val_categorical_accuracy\"], c=\"b\", label=\"test_accuracy\")\n",
    "plt.legend(loc=\"upper left\")\n",
    "plt.show()\n",
    "\n"
   ]
  },
  {
   "cell_type": "code",
   "execution_count": 11,
   "id": "abc7a5f2",
   "metadata": {
    "execution": {
     "iopub.execute_input": "2023-06-16T10:39:14.012433Z",
     "iopub.status.busy": "2023-06-16T10:39:14.012046Z",
     "iopub.status.idle": "2023-06-16T10:39:14.248464Z",
     "shell.execute_reply": "2023-06-16T10:39:14.247590Z"
    },
    "papermill": {
     "duration": 0.476573,
     "end_time": "2023-06-16T10:39:14.250587",
     "exception": false,
     "start_time": "2023-06-16T10:39:13.774014",
     "status": "completed"
    },
    "tags": []
   },
   "outputs": [
    {
     "data": {
      "image/png": "[encoded data removed]",
      "text/plain": [
       "<Figure size 640x480 with 1 Axes>"
      ]
     },
     "metadata": {},
     "output_type": "display_data"
    }
   ],
   "source": [
    "# Visualise train / Valid Loss\n",
    "plt.plot(model.history.history[\"loss\"], c=\"r\", label=\"train_loss\")\n",
    "plt.plot(model.history.history[\"val_loss\"], c=\"b\", label=\"test_loss\")\n",
    "plt.legend(loc=\"upper left\")\n",
    "plt.show()\n"
   ]
  }
 ],
 "metadata": {
  "kernelspec": {
   "display_name": "Python 3",
   "language": "python",
   "name": "python3"
  },
  "language_info": {
   "codemirror_mode": {
    "name": "ipython",
    "version": 3
   },
   "file_extension": ".py",
   "mimetype": "text/x-python",
   "name": "python",
   "nbconvert_exporter": "python",
   "pygments_lexer": "ipython3",
   "version": "3.10.10"
  },
  "papermill": {
   "default_parameters": {},
   "duration": 1604.732241,
   "end_time": "2023-06-16T10:39:17.669075",
   "environment_variables": {},
   "exception": null,
   "input_path": "__notebook__.ipynb",
   "output_path": "__notebook__.ipynb",
   "parameters": {},
   "start_time": "2023-06-16T10:12:32.936834",
   "version": "2.4.0"
  }
 },
 "nbformat": 4,
 "nbformat_minor": 5
}
